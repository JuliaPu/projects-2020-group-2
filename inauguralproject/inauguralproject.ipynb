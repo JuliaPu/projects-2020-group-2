{
 "cells": [
  {
   "cell_type": "markdown",
   "metadata": {},
   "source": [
    "# Inaugural Project"
   ]
  },
  {
   "cell_type": "markdown",
   "metadata": {},
   "source": [
    "> **Note the following:** \n",
    "> 1. This is an example of how to structure your **inaugural project**.\n",
    "> 1. Remember the general advice on structuring and commenting your code from [lecture 5](https://numeconcopenhagen.netlify.com/lectures/Workflow_and_debugging).\n",
    "> 1. Remember this [guide](https://www.markdownguide.org/basic-syntax/) on markdown and (a bit of) latex.\n",
    "> 1. Turn on automatic numbering by clicking on the small icon on top of the table of contents in the left sidebar.\n",
    "> 1. The `inauguralproject.py` file includes a function which can be used multiple times in this notebook."
   ]
  },
  {
   "cell_type": "markdown",
   "metadata": {},
   "source": [
    "Imports and set magics:"
   ]
  },
  {
   "cell_type": "code",
   "execution_count": 1,
   "metadata": {},
   "outputs": [],
   "source": [
    "import numpy as np\n",
    "\n",
    "# autoreload modules when code is run\n",
    "%load_ext autoreload\n",
    "%autoreload 2\n",
    "\n",
    "# local modules\n",
    "import inauguralproject"
   ]
  },
  {
   "cell_type": "markdown",
   "metadata": {
    "toc-hr-collapsed": true
   },
   "source": [
    "# Question 1"
   ]
  },
  {
   "cell_type": "markdown",
   "metadata": {},
   "source": [
    "BRIEFLY EXPLAIN HOW YOU SOLVE THE MODEL."
   ]
  },
  {
   "cell_type": "code",
   "execution_count": 2,
   "metadata": {},
   "outputs": [
    {
     "name": "stdout",
     "output_type": "stream",
     "text": [
      "[1 4 9]\n"
     ]
    }
   ],
   "source": [
    "# Question 1: Construct a function which solves equation (1) given the parameters.\n",
    "\n",
    "#import packages\n",
    "import math\n",
    "from scipy import optimize\n",
    "\n",
    "\n",
    "# choose some parameters\n",
    "\n",
    "m = 1 # cash on hand\n",
    "v = 10 # scales for disutility of labor\n",
    "e = 0.3 # Frisch elasticity of labor supply\n",
    "tau0 = 0.4 # labor income tax\n",
    "tau1 = 0.1 # top bracket labor income tax\n",
    "k = 0.4 # cut off bracket top labor income tax\n",
    "\n",
    "# define the equation for the total resources\n",
    "def x(m, w, l, tau0, tau1, k) : \n",
    "    if w*l-k>0:\n",
    "        return m+w*l-(tau0*w*l+tau1*(w*l-k))\n",
    "    else:\n",
    "        return m+w*l-(tau0*w*l)\n",
    "\n",
    "print(\"x=\" + str(x(m, 1, 1, tau0, tau1, k)))\n",
    "\n",
    "# define the utility function\n",
    "def utility_func(l, c, e, v) :\n",
    "    c=x(m,w,l,tau0,tau1,k) # in the optimum we will spend all our money\n",
    "    return math.log(c,10) - v * ((l ** (1 + (1 / e))) / (1 + (1 / e)))\n",
    "\n",
    "w=1\n",
    "print(\"u=\" + str(utility_func(1,1.54,e,v)))\n",
    "\n",
    "\n",
    "# we can only minimize, therefore we need to set a minus in front of the function\n",
    "\n",
    "def value_of_choice(l, e, v, m, w, tau0, tau1, k):\n",
    "    c = x(m, w, l, tau0, tau1, k)\n",
    "    return -utility_func(l, c, e, v)\n",
    "\n",
    "#check the funciton\n",
    "print(value_of_choice( 1, e, v, m, 1, tau0, tau1, k))\n",
    "# it works!\n",
    "#print(utility_func()\n",
    "\n",
    "# use the solver, set bounds for l to 0,1\n",
    "def solve_equation(e, v, m, w, tau0, tau1, k) : \n",
    "    solution = optimize.minimize_scalar(value_of_choice, method='bounded', bounds=(0, 1), args=(e, v, m, w, tau0, tau0, k))\n",
    "    l = solution.x \n",
    "    c = x(m, w, l, tau0, tau1, k)\n",
    "    u = utility_func(l, c, e, v)\n",
    "    return l, c, u\n",
    "\n",
    "w=10\n",
    "print(solve_equation(e, v, m, w, tau0, tau1, k))\n",
    "# it works!"
   ]
  },
  {
   "cell_type": "markdown",
   "metadata": {},
   "source": [
    "# Question 2"
   ]
  },
  {
   "cell_type": "code",
   "execution_count": 1,
   "metadata": {},
   "outputs": [
    {
     "ename": "SyntaxError",
     "evalue": "invalid syntax (<ipython-input-1-95323506bdc7>, line 1)",
     "output_type": "error",
     "traceback": [
      "\u001b[0;36m  File \u001b[0;32m\"<ipython-input-1-95323506bdc7>\"\u001b[0;36m, line \u001b[0;32m1\u001b[0m\n\u001b[0;31m    ADD ANSWER.\u001b[0m\n\u001b[0m             ^\u001b[0m\n\u001b[0;31mSyntaxError\u001b[0m\u001b[0;31m:\u001b[0m invalid syntax\n"
     ]
    }
   ],
   "source": [
    "# Question 2: Plot l* and c* as functions of w in the range 0.5 to 1.5.\n",
    "\n",
    "# import numpy\n",
    "import numpy as np\n",
    "# import matplotlib\n",
    "import matplotlib.pyplot as plt\n",
    "\n",
    "N=100\n",
    "# generate a list of all the values for w, 1000 values\n",
    "W=np.linspace(0.5,1.5,N) # less values for the start\n",
    "print(W)\n",
    "\n",
    "# generate an empty list for the l values\n",
    "L=np.zeros(N)\n",
    "print(L)\n",
    "\n",
    "C=np.zeros(N)\n",
    "print(C)\n",
    "\n",
    "U=np.zeros(N)\n",
    "print(U)\n",
    "# find the l values that solve the maximization problem\n",
    "\n",
    "for i in range(W.size) :\n",
    "    l,c,u = solve_equation(e, v, m, W[i], tau0, tau1, k)\n",
    "    L[i]=l\n",
    "    C[i]=c\n",
    "    U[i]=u\n",
    "\n",
    "#for i in range(W.size) :\n",
    "    #l,_,_ = solve_equation(e, v, m, W[i], tau0, tau1, k)\n",
    "    #L[i]=l\n",
    "   \n",
    "#for i in range(W.size) :\n",
    "    #_,c,_ = solve_equation(e, v, m, W[i], tau0, tau1, k)\n",
    "    #C[i]=c\n",
    "\n",
    "#for i in range(W.size) :\n",
    "    #_,_,u= solve_equation(e, v, m, W[i], tau0, tau1, k)\n",
    "    #U[i]=u\n",
    "\n",
    "\n",
    "print(C)\n",
    "print(L)\n",
    "print(U)\n",
    "\n",
    "# make tests\n",
    "print(\"l,c,u=\"+str(solve_equation(e,v,m,W[0],tau0,tau1,k)))\n",
    "print(L[0])\n",
    "print(C[0])\n",
    "print(U[0])\n",
    "\n",
    "print(\"l,c,u=\"+str(solve_equation(e,v,m,W[75],tau0,tau1,k)))\n",
    "print(L[75])\n",
    "print(C[75])\n",
    "print(U[75])\n",
    "\n",
    "\n",
    "#print(\"l,c,u=\"+str(solve_equation(e,v,m,W[75],tau0,tau1,k)))\n",
    "#print(L[75])\n",
    "#print(C[75])\n",
    "#print(U[75])\n",
    "\n",
    "#seems to work!\n",
    "\n",
    "#create the plot\n",
    "\n",
    "#fig = plt.figure() # create the figure\n",
    "#ax = fig.add_subplot(1,1,1,projection='3d') # create a 3d axis in the figure \n",
    "#ax.plot_surface(x1_values,x2_values,u_values); # create surface plot in the axis\n",
    "\n",
    "plt.plot(W, L)\n",
    "plt.plot(W,C)\n",
    "plt.grid(True)\n",
    "plt.xlabel(\"w\")\n",
    "plt.ylabel(\"c*, l*\")\n",
    "plt.legend([\"Labour Supply\", \"Consumption\"])\n",
    "plt.title(\"Optimal consumption and labour supply\")\n",
    "plt.show()\n"
   ]
  },
  {
   "cell_type": "markdown",
   "metadata": {},
   "source": [
    "# Question 3"
   ]
  },
  {
   "cell_type": "code",
   "execution_count": 4,
   "metadata": {},
   "outputs": [],
   "source": [
    "# Question 3: Calculate the total tax revenue given by\n",
    "\n",
    "# code\n",
    "N = 10\n",
    "np.random.seed(1000)\n",
    "W_i=np.random.uniform(low=0.5, high=1.5, size=N)\n",
    "print(W_i) # now we have the uniformly distrbuted wages\n",
    "\n",
    "def tax_revenue(e, v, m, tau0, tau1, k, N) :\n",
    "    total_tax = 0 # set the total tax equal to zero in the beginning\n",
    "    for i in range(0,N) :\n",
    "        w_i=W_i[i] #pick one of the wages\n",
    "        l_i, _, _ = solve_equation(e, v, m, w_i, tau0, tau1, k)\n",
    "        total_tax += (tau0 * w_i * l_i + tau1 * max(w_i * l_i - k, 0)) # add the tax revenue\n",
    "    return total_tax\n",
    "\n",
    "T=tax_revenue(e, v, m, tau0, tau1, k, N)\n",
    "\n",
    "print(\"The total tax revenue is \" + str(T))"
   ]
  },
  {
   "cell_type": "markdown",
   "metadata": {},
   "source": [
    "# Question 4"
   ]
  },
  {
   "cell_type": "code",
   "execution_count": 5,
   "metadata": {},
   "outputs": [],
   "source": [
    "# Question 4: What would the tax revenue be if instead e = 0.1?\n",
    "\n",
    "# define the new elasticity\n",
    "e2=0.1\n",
    "\n",
    "# call the previous defined function and \n",
    "T2=tax_revenue(e2,v,m,tau0,tau1,k,N)\n",
    "print(T2)\n",
    "print(\"The new total tax revenue with e=0.1 is \" + str(T2))"
   ]
  },
  {
   "cell_type": "markdown",
   "metadata": {},
   "source": [
    "# Question 5"
   ]
  },
  {
   "cell_type": "markdown",
   "metadata": {},
   "source": [
    "ADD ANSWER."
   ]
  },
  {
   "cell_type": "code",
   "execution_count": 6,
   "metadata": {},
   "outputs": [],
   "source": [
    "# Question 5: Which \u001c0, \u001c1 and \u0014 would you suggest her to implement?\n",
    "#Report the tax revenue you expect to obtain."
   ]
  },
  {
   "cell_type": "markdown",
   "metadata": {},
   "source": [
    "# Conclusion"
   ]
  },
  {
   "cell_type": "markdown",
   "metadata": {},
   "source": [
    "ADD CONCISE CONLUSION."
   ]
  }
 ],
 "metadata": {
  "kernelspec": {
   "display_name": "Python 3",
   "language": "python",
   "name": "python3"
  },
  "language_info": {
   "codemirror_mode": {
    "name": "ipython",
    "version": 3
   },
   "file_extension": ".py",
   "mimetype": "text/x-python",
   "name": "python",
   "nbconvert_exporter": "python",
   "pygments_lexer": "ipython3",
   "version": "3.7.4-final"
  },
  "toc-autonumbering": true
 },
 "nbformat": 4,
 "nbformat_minor": 4
}