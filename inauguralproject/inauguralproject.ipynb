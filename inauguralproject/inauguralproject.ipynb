{
 "cells": [
  {
   "cell_type": "markdown",
   "metadata": {},
   "source": [
    "# Inaugural Project"
   ]
  },
  {
   "cell_type": "markdown",
   "metadata": {},
   "source": [
    "> **Note the following:** \n",
    "> 1. This is an example of how to structure your **inaugural project**.\n",
    "> 1. Remember the general advice on structuring and commenting your code from [lecture 5](https://numeconcopenhagen.netlify.com/lectures/Workflow_and_debugging).\n",
    "> 1. Remember this [guide](https://www.markdownguide.org/basic-syntax/) on markdown and (a bit of) latex.\n",
    "> 1. Turn on automatic numbering by clicking on the small icon on top of the table of contents in the left sidebar.\n",
    "> 1. The `inauguralproject.py` file includes a function which can be used multiple times in this notebook."
   ]
  },
  {
   "cell_type": "markdown",
   "metadata": {},
   "source": [
    "Imports and set magics:"
   ]
  },
  {
   "cell_type": "code",
   "execution_count": 1,
   "metadata": {},
   "outputs": [],
   "source": [
    "import numpy as np\n",
    "\n",
    "# autoreload modules when code is run\n",
    "%load_ext autoreload\n",
    "%autoreload 2\n",
    "\n",
    "# local modules\n",
    "import inauguralproject"
   ]
  },
  {
   "cell_type": "markdown",
   "metadata": {
    "toc-hr-collapsed": true
   },
   "source": [
    "# Question 1"
   ]
  },
  {
   "cell_type": "markdown",
   "metadata": {},
   "source": [
    "BRIEFLY EXPLAIN HOW YOU SOLVE THE MODEL."
   ]
  },
  {
   "cell_type": "code",
   "execution_count": 2,
   "metadata": {},
   "outputs": [],
   "source": [
    "# Question 1: Construct a function which solves equation (1) given the parameters.\n",
    "\n",
    "#import packages\n",
    "import math\n",
    "from scipy import optimize\n",
    "\n",
    "\n",
    "# choose some parameters\n",
    "\n",
    "m = 1 # cash on hand\n",
    "v = 10 # scales for disutility of labor\n",
    "e = 0.3 # Frisch elasticity of labor supply\n",
    "tau0 = 0.4 # labor income tax\n",
    "tau1 = 0.1 # top bracket labor income tax\n",
    "k = 0.4 # cut off bracket top labor income tax\n",
    "\n",
    "# define the equation for the total resources\n",
    "def x(m, w, l, tau0, tau1, k) : \n",
    "    if w*l-k>0:\n",
    "        return m+w*l-(tau0*w*l+tau1*(w*l-k))\n",
    "    else:\n",
    "        return m+w*l-(tau0*w*l)\n",
    "\n",
    "# define the utility function\n",
    "def utility_func(l, c, e, v) :\n",
    "    c=x(m,w,l,tau0,tau1,k) # in the optimum we will spend all our money\n",
    "    return math.log(c,10) - v * ((l ** (1 + (1 / e))) / (1 + (1 / e)))\n",
    "\n",
    "# we can only minimize, therefore we need to set a minus in front of the function\n",
    "\n",
    "def value_of_choice(l, e, v, m, w, tau0, tau1, k):\n",
    "    c = x(m, w, l, tau0, tau1, k)\n",
    "    return -utility_func(l, c, e, v)\n",
    "\n",
    "# use the solver, set bounds for l to 0,1\n",
    "def solve_equation(e, v, m, w, tau0, tau1, k) : \n",
    "    solution = optimize.minimize_scalar(value_of_choice, method='bounded', bounds=(0, 1), args=(e, v, m, w, tau0, tau0, k))\n",
    "    l = solution.x \n",
    "    c = x(m, w, l, tau0, tau1, k)\n",
    "    u = utility_func(l, c, e, v)\n",
    "    return l, c, u"
   ]
  },
  {
   "cell_type": "markdown",
   "metadata": {},
   "source": [
    "# Question 2"
   ]
  },
  {
   "cell_type": "code",
   "execution_count": 4,
   "metadata": {},
   "outputs": [
    {
     "name": "stdout",
     "output_type": "stream",
     "text": "[0.5        0.51010101 0.52020202 0.53030303 0.54040404 0.55050505\n 0.56060606 0.57070707 0.58080808 0.59090909 0.6010101  0.61111111\n 0.62121212 0.63131313 0.64141414 0.65151515 0.66161616 0.67171717\n 0.68181818 0.69191919 0.7020202  0.71212121 0.72222222 0.73232323\n 0.74242424 0.75252525 0.76262626 0.77272727 0.78282828 0.79292929\n 0.8030303  0.81313131 0.82323232 0.83333333 0.84343434 0.85353535\n 0.86363636 0.87373737 0.88383838 0.89393939 0.9040404  0.91414141\n 0.92424242 0.93434343 0.94444444 0.95454545 0.96464646 0.97474747\n 0.98484848 0.99494949 1.00505051 1.01515152 1.02525253 1.03535354\n 1.04545455 1.05555556 1.06565657 1.07575758 1.08585859 1.0959596\n 1.10606061 1.11616162 1.12626263 1.13636364 1.14646465 1.15656566\n 1.16666667 1.17676768 1.18686869 1.1969697  1.20707071 1.21717172\n 1.22727273 1.23737374 1.24747475 1.25757576 1.26767677 1.27777778\n 1.28787879 1.2979798  1.30808081 1.31818182 1.32828283 1.33838384\n 1.34848485 1.35858586 1.36868687 1.37878788 1.38888889 1.3989899\n 1.40909091 1.41919192 1.42929293 1.43939394 1.44949495 1.45959596\n 1.46969697 1.47979798 1.48989899 1.5       ]\n[0. 0. 0. 0. 0. 0. 0. 0. 0. 0. 0. 0. 0. 0. 0. 0. 0. 0. 0. 0. 0. 0. 0. 0.\n 0. 0. 0. 0. 0. 0. 0. 0. 0. 0. 0. 0. 0. 0. 0. 0. 0. 0. 0. 0. 0. 0. 0. 0.\n 0. 0. 0. 0. 0. 0. 0. 0. 0. 0. 0. 0. 0. 0. 0. 0. 0. 0. 0. 0. 0. 0. 0. 0.\n 0. 0. 0. 0. 0. 0. 0. 0. 0. 0. 0. 0. 0. 0. 0. 0. 0. 0. 0. 0. 0. 0. 0. 0.\n 0. 0. 0. 0.]\n[0. 0. 0. 0. 0. 0. 0. 0. 0. 0. 0. 0. 0. 0. 0. 0. 0. 0. 0. 0. 0. 0. 0. 0.\n 0. 0. 0. 0. 0. 0. 0. 0. 0. 0. 0. 0. 0. 0. 0. 0. 0. 0. 0. 0. 0. 0. 0. 0.\n 0. 0. 0. 0. 0. 0. 0. 0. 0. 0. 0. 0. 0. 0. 0. 0. 0. 0. 0. 0. 0. 0. 0. 0.\n 0. 0. 0. 0. 0. 0. 0. 0. 0. 0. 0. 0. 0. 0. 0. 0. 0. 0. 0. 0. 0. 0. 0. 0.\n 0. 0. 0. 0.]\n[0. 0. 0. 0. 0. 0. 0. 0. 0. 0. 0. 0. 0. 0. 0. 0. 0. 0. 0. 0. 0. 0. 0. 0.\n 0. 0. 0. 0. 0. 0. 0. 0. 0. 0. 0. 0. 0. 0. 0. 0. 0. 0. 0. 0. 0. 0. 0. 0.\n 0. 0. 0. 0. 0. 0. 0. 0. 0. 0. 0. 0. 0. 0. 0. 0. 0. 0. 0. 0. 0. 0. 0. 0.\n 0. 0. 0. 0. 0. 0. 0. 0. 0. 0. 0. 0. 0. 0. 0. 0. 0. 0. 0. 0. 0. 0. 0. 0.\n 0. 0. 0. 0.]\n[1.07972559 1.08177922 1.08384282 1.0859161  1.08799899 1.09009131\n 1.09219288 1.09430353 1.09642309 1.0985514  1.10068831 1.10283365\n 1.10498729 1.10714908 1.10931888 1.11149651 1.11368179 1.11587467\n 1.11807502 1.12028272 1.12249906 1.12472112 1.12694978 1.12918613\n 1.13142924 1.13367899 1.1359353  1.13819805 1.14046715 1.14274251\n 1.14502402 1.1473116  1.14960515 1.15190534 1.15421058 1.1565208\n 1.15883914 1.16116131 1.16348897 1.16582222 1.16816101 1.17050509\n 1.17285438 1.17520881 1.17756831 1.17993281 1.18230225 1.1846765\n 1.18705561 1.18943946 1.19182799 1.19422114 1.19661885 1.19902106\n 1.2014277  1.20383872 1.20625406 1.20867366 1.21109748 1.21352545\n 1.21595753 1.21839367 1.22083381 1.2232779  1.22572589 1.22817774\n 1.23063339 1.23309281 1.23555831 1.23802512 1.23999771 1.23999836\n 1.23999928 1.24000101 1.23999976 1.24014748 1.24214167 1.24413959\n 1.24614053 1.24814466 1.25015222 1.25216067 1.25417433 1.25618877\n 1.25820796 1.26022921 1.26225324 1.26428002 1.26630952 1.26834172\n 1.27037659 1.2724141  1.27445423 1.27649694 1.27854222 1.28059004\n 1.28264037 1.28469319 1.28674599 1.2888037 ]\n[0.26575196 0.26719942 0.26862261 0.27002203 0.27139877 0.27275352\n 0.27408695 0.27539969 0.27669235 0.27796549 0.27921967 0.28045541\n 0.28167321 0.28287356 0.28405692 0.28522363 0.28637398 0.28750859\n 0.28862783 0.2897321  0.2908251  0.2919005  0.29296104 0.29400981\n 0.29504522 0.29606757 0.29707714 0.29807423 0.2990591  0.30003202\n 0.30099325 0.30194303 0.3028816  0.30381068 0.3047275  0.30563234\n 0.30653167 0.30741753 0.30829349 0.30916008 0.31001751 0.31086563\n 0.31170462 0.31253463 0.31335584 0.3141684  0.31497247 0.31576811\n 0.31655565 0.31733514 0.31810672 0.31887053 0.3196267  0.32037536\n 0.32111663 0.32185061 0.32257743 0.32329722 0.32401008 0.32471612\n 0.32541546 0.32610819 0.32679442 0.32747425 0.32814777 0.32881508\n 0.32947628 0.33013144 0.33078401 0.33142738 0.33137759 0.32862846\n 0.32592495 0.32326694 0.32064745 0.31830684 0.31891674 0.31952283\n 0.32012412 0.32072095 0.32131382 0.32189894 0.32248303 0.32305944\n 0.32363428 0.32420359 0.32476857 0.32532926 0.32588571 0.32643798\n 0.32698613 0.32753019 0.32807022 0.32860628 0.32913839 0.32966663\n 0.33019102 0.33071161 0.33122512 0.33173826]\n[0.02591321 0.02656219 0.02721344 0.02786686 0.02852239 0.02917997\n 0.02983953 0.030501   0.03116433 0.03182944 0.0324963  0.03316483\n 0.03383498 0.0345067  0.03517995 0.03585465 0.03653078 0.03720828\n 0.0378871  0.0385672  0.03924854 0.03993106 0.04061474 0.04129952\n 0.04198537 0.04267226 0.04336013 0.04404896 0.04473871 0.04542935\n 0.04612083 0.04681313 0.04750621 0.04820005 0.04889461 0.04958985\n 0.05028576 0.0509823  0.05167944 0.05237715 0.05307541 0.0537742\n 0.05447348 0.05517323 0.05587342 0.05657404 0.05727505 0.05797644\n 0.05867818 0.05938025 0.06008262 0.06078528 0.06148821 0.06219138\n 0.06289478 0.06359838 0.06430217 0.06500612 0.06571023 0.06641447\n 0.06711882 0.06782326 0.06852779 0.06923238 0.06993702 0.07064169\n 0.07134638 0.07205106 0.07275574 0.07346038 0.07416435 0.07484733\n 0.07550077 0.07612613 0.07672486 0.07729836 0.07786142 0.07842466\n 0.07898805 0.07955159 0.08011527 0.08067908 0.08124301 0.08180705\n 0.08237119 0.08293541 0.08349972 0.08406411 0.08462855 0.08519305\n 0.0857576  0.08632218 0.0868868  0.08745143 0.08801608 0.08858073\n 0.08914538 0.08971003 0.09027465 0.09083925]\nl,c,u=(0.3317382629105303, 1.099521478873159, 0.0908392509646448)\n0.26575196225493536\n1.0797255886764805\n0.025913207719180455\nl,c,u=(0.3317382629105303, 1.248592998648288, 0.0908392509646448)\n0.3183068352801619\n1.2401474797594958\n0.0772983551380737\n"
    },
    {
     "data": {
      "image/png": "[encoded data removed]",
      "text/plain": "<Figure size 432x288 with 1 Axes>"
     },
     "metadata": {
      "needs_background": "light"
     },
     "output_type": "display_data"
    }
   ],
   "source": [
    "# Question 2: Plot l* and c* as functions of w in the range 0.5 to 1.5.\n",
    "\n",
    "# import numpy\n",
    "import numpy as np\n",
    "# import matplotlib\n",
    "import matplotlib.pyplot as plt\n",
    "\n",
    "N=100\n",
    "# generate a list of all the values for w, 100 values\n",
    "W=np.linspace(0.5,1.5,N) # less values for the start\n",
    "print(W)\n",
    "\n",
    "# generate an empty list for the l values\n",
    "L=np.zeros(N)\n",
    "print(L)\n",
    "\n",
    "C=np.zeros(N)\n",
    "print(C)\n",
    "\n",
    "U=np.zeros(N)\n",
    "print(U)\n",
    "\n",
    "\n",
    "# find the l values that solve the maximization problem\n",
    "\n",
    "for i in range(W.size) :\n",
    "    w=W[i]\n",
    "    l,c,u = solve_equation(e, v, m, w, tau0, tau1, k)\n",
    "    L[i]=l\n",
    "    C[i]=c\n",
    "    U[i]=u\n",
    "\n",
    "\n",
    "print(C)\n",
    "print(L)\n",
    "print(U)\n",
    "\n",
    "# make tests\n",
    "print(\"l,c,u=\"+str(solve_equation(e,v,m,W[0],tau0,tau1,k)))\n",
    "print(L[0])\n",
    "print(C[0])\n",
    "print(U[0])\n",
    "\n",
    "print(\"l,c,u=\"+str(solve_equation(e,v,m,W[75],tau0,tau1,k)))\n",
    "print(L[75])\n",
    "print(C[75])\n",
    "print(U[75])\n",
    "\n",
    "\n",
    "plt.plot(W, L)\n",
    "plt.plot(W,C)\n",
    "plt.grid(True)\n",
    "plt.xlabel(\"w\")\n",
    "plt.ylabel(\"c*, l*\")\n",
    "plt.legend([\"Labour Supply\", \"Consumption\"])\n",
    "plt.title(\"Optimal consumption and labour supply\")\n",
    "plt.show()\n"
   ]
  },
  {
   "cell_type": "markdown",
   "metadata": {},
   "source": [
    "# Question 3"
   ]
  },
  {
   "cell_type": "code",
   "execution_count": 5,
   "metadata": {},
   "outputs": [
    {
     "name": "stdout",
     "output_type": "stream",
     "text": "[1.15358959 0.61500694 1.45028286 ... 1.3943493  0.95239636 1.2226417 ]\nThe total tax revenue is 1345.7596892585047\n"
    }
   ],
   "source": [
    "# Question 3: Calculate the total tax revenue given by\n",
    "\n",
    "# code\n",
    "N = 10000\n",
    "np.random.seed(1000)\n",
    "W_i=np.random.uniform(low=0.5, high=1.5, size=N)\n",
    "print(W_i) # now we have the uniformly distrbuted wages\n",
    "\n",
    "def tax_revenue(e, v, m, tau0, tau1, k, N) :\n",
    "    total_tax = 0 # set the total tax equal to zero in the beginning\n",
    "    for i in range(0,N) :\n",
    "        w_i=W_i[i] #pick one of the wages\n",
    "        l_i, _, _ = solve_equation(e, v, m, w_i, tau0, tau1, k)\n",
    "        total_tax += (tau0 * w_i * l_i + tau1 * max(w_i * l_i - k, 0)) # add the tax revenue\n",
    "    return total_tax\n",
    "\n",
    "T=tax_revenue(e, v, m, tau0, tau1, k, N)\n",
    "\n",
    "print(\"The total tax revenue is \" + str(T))"
   ]
  },
  {
   "cell_type": "markdown",
   "metadata": {},
   "source": [
    "# Question 4"
   ]
  },
  {
   "cell_type": "code",
   "execution_count": 7,
   "metadata": {},
   "outputs": [
    {
     "name": "stdout",
     "output_type": "stream",
     "text": "3011.410723734836\nThe new total tax revenue with e=0.1 is 3011.410723734836\n"
    }
   ],
   "source": [
    "# Question 4: What would the tax revenue be if instead e = 0.1?\n",
    "\n",
    "# define the new elasticity\n",
    "e2=0.1\n",
    "\n",
    "# call the previous defined function and \n",
    "T2=tax_revenue(e2,v,m,tau0,tau1,k,N)\n",
    "print(\"The new total tax revenue with e=0.1 is \" + str(T2))"
   ]
  },
  {
   "cell_type": "markdown",
   "metadata": {},
   "source": [
    "# Question 5"
   ]
  },
  {
   "cell_type": "code",
   "execution_count": null,
   "metadata": {},
   "outputs": [],
   "source": [
    "# Question 5: Which \u001c0, \u001c1 and \u0014 would you suggest her to implement?\n",
    "#Report the tax revenue you expect to obtain."
   ]
  },
  {
   "cell_type": "markdown",
   "metadata": {},
   "source": [
    "# Conclusion"
   ]
  },
  {
   "cell_type": "markdown",
   "metadata": {},
   "source": [
    "ADD CONCISE CONLUSION."
   ]
  }
 ],
 "metadata": {
  "kernelspec": {
   "display_name": "Python 3",
   "language": "python",
   "name": "python3"
  },
  "language_info": {
   "codemirror_mode": {
    "name": "ipython",
    "version": 3
   },
   "file_extension": ".py",
   "mimetype": "text/x-python",
   "name": "python",
   "nbconvert_exporter": "python",
   "pygments_lexer": "ipython3",
   "version": "3.7.4-final"
  },
  "toc-autonumbering": true
 },
 "nbformat": 4,
 "nbformat_minor": 4
}