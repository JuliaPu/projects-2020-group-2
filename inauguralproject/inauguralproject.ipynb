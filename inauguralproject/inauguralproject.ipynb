{
 "cells": [
  {
   "cell_type": "markdown",
   "metadata": {},
   "source": [
    "# Inaugural Project"
   ]
  },
  {
   "cell_type": "markdown",
   "metadata": {},
   "source": [
    "> **Note the following:** \n",
    "> 1. This is an example of how to structure your **inaugural project**.\n",
    "> 1. Remember the general advice on structuring and commenting your code from [lecture 5](https://numeconcopenhagen.netlify.com/lectures/Workflow_and_debugging).\n",
    "> 1. Remember this [guide](https://www.markdownguide.org/basic-syntax/) on markdown and (a bit of) latex.\n",
    "> 1. Turn on automatic numbering by clicking on the small icon on top of the table of contents in the left sidebar.\n",
    "> 1. The `inauguralproject.py` file includes a function which can be used multiple times in this notebook."
   ]
  },
  {
   "cell_type": "markdown",
   "metadata": {},
   "source": [
    "Imports and set magics:"
   ]
  },
  {
   "cell_type": "code",
   "execution_count": 10,
   "metadata": {},
   "outputs": [
    {
     "name": "stdout",
     "output_type": "stream",
     "text": "The autoreload extension is already loaded. To reload it, use:\n  %reload_ext autoreload\n"
    }
   ],
   "source": [
    "import numpy as np\n",
    "\n",
    "# autoreload modules when code is run\n",
    "%load_ext autoreload\n",
    "%autoreload 2\n",
    "\n",
    "# local modules\n",
    "import inauguralproject"
   ]
  },
  {
   "cell_type": "markdown",
   "metadata": {
    "toc-hr-collapsed": true
   },
   "source": [
    "# Question 1"
   ]
  },
  {
   "cell_type": "markdown",
   "metadata": {},
   "source": [
    "BRIEFLY EXPLAIN HOW YOU SOLVE THE MODEL."
   ]
  },
  {
   "cell_type": "code",
   "execution_count": null,
   "metadata": {},
   "outputs": [],
   "source": [
    "# Question 1: Construct a function which solves equation (1) given the parameters.\n",
    "\n",
    "#import packages\n",
    "import math\n",
    "from scipy import optimize\n",
    "\n",
    "\n",
    "# choose some parameters\n",
    "\n",
    "m = 1 # cash on hand\n",
    "v = 10 # scales for disutility of labor\n",
    "e = 0.3 # Frisch elasticity of labor supply\n",
    "tau0 = 0.4 # labor income tax\n",
    "tau1 = 0.1 # top bracket labor income tax\n",
    "k = 0.4 # cut off bracket top labor income tax\n",
    "\n",
    "# define the equation for the total resources\n",
    "def x(m, w, l, tau0, tau1, k) : \n",
    "    if w*l-k>0:\n",
    "        return m+w*l-(tau0*w*l+tau1*(w*l-k))\n",
    "    else:\n",
    "        return m+w*l-(tau0*w*l)\n",
    "\n",
    "print(\"x=\" + str(x(m, 1, 1, tau0, tau1, k)))\n",
    "\n",
    "# define the utility function\n",
    "def utility_func(l, c, e, v) :\n",
    "    c=x(m,w,l,tau0,tau1,k) # in the optimum we will spend all our money\n",
    "    return math.log(c,10) - v * ((l ** (1 + (1 / e))) / (1 + (1 / e)))\n",
    "\n",
    "w=1\n",
    "print(\"u=\" + str(utility_func(1,1.54,e,v)))\n",
    "\n",
    "\n",
    "# we can only minimize, therefore we need to set a minus in front of the function\n",
    "\n",
    "def value_of_choice(l, e, v, m, w, tau0, tau1, k):\n",
    "    c = x(m, w, l, tau0, tau1, k)\n",
    "    return -utility_func(l, c, e, v)\n",
    "\n",
    "#check the funciton\n",
    "print(value_of_choice( 1, e, v, m, 1, tau0, tau1, k))\n",
    "# it works!\n",
    "#print(utility_func()\n",
    "\n",
    "# use the solver, set bounds for l to 0,1\n",
    "def solve_equation(e, v, m, w, tau0, tau1, k) : \n",
    "    solution = optimize.minimize_scalar(value_of_choice, method='bounded', bounds=(0, 1), args=(e, v, m, w, tau0, tau0, k))\n",
    "    l = solution.x \n",
    "    c = x(m, w, l, tau0, tau1, k)\n",
    "    u = utility_func(l, c, e, v)\n",
    "    return l, c, u\n",
    "\n",
    "w=10\n",
    "print(solve_equation(e, v, m, w, tau0, tau1, k))\n",
    "# it works!"
   ]
  },
  {
   "cell_type": "markdown",
   "metadata": {},
   "source": [
    "# Question 2"
   ]
  },
  {
   "cell_type": "code",
   "execution_count": 12,
   "metadata": {},
   "outputs": [
    {
     "name": "stdout",
     "output_type": "stream",
     "text": "[0.5        0.51010101 0.52020202 0.53030303 0.54040404 0.55050505\n 0.56060606 0.57070707 0.58080808 0.59090909 0.6010101  0.61111111\n 0.62121212 0.63131313 0.64141414 0.65151515 0.66161616 0.67171717\n 0.68181818 0.69191919 0.7020202  0.71212121 0.72222222 0.73232323\n 0.74242424 0.75252525 0.76262626 0.77272727 0.78282828 0.79292929\n 0.8030303  0.81313131 0.82323232 0.83333333 0.84343434 0.85353535\n 0.86363636 0.87373737 0.88383838 0.89393939 0.9040404  0.91414141\n 0.92424242 0.93434343 0.94444444 0.95454545 0.96464646 0.97474747\n 0.98484848 0.99494949 1.00505051 1.01515152 1.02525253 1.03535354\n 1.04545455 1.05555556 1.06565657 1.07575758 1.08585859 1.0959596\n 1.10606061 1.11616162 1.12626263 1.13636364 1.14646465 1.15656566\n 1.16666667 1.17676768 1.18686869 1.1969697  1.20707071 1.21717172\n 1.22727273 1.23737374 1.24747475 1.25757576 1.26767677 1.27777778\n 1.28787879 1.2979798  1.30808081 1.31818182 1.32828283 1.33838384\n 1.34848485 1.35858586 1.36868687 1.37878788 1.38888889 1.3989899\n 1.40909091 1.41919192 1.42929293 1.43939394 1.44949495 1.45959596\n 1.46969697 1.47979798 1.48989899 1.5       ]\n[0. 0. 0. 0. 0. 0. 0. 0. 0. 0. 0. 0. 0. 0. 0. 0. 0. 0. 0. 0. 0. 0. 0. 0.\n 0. 0. 0. 0. 0. 0. 0. 0. 0. 0. 0. 0. 0. 0. 0. 0. 0. 0. 0. 0. 0. 0. 0. 0.\n 0. 0. 0. 0. 0. 0. 0. 0. 0. 0. 0. 0. 0. 0. 0. 0. 0. 0. 0. 0. 0. 0. 0. 0.\n 0. 0. 0. 0. 0. 0. 0. 0. 0. 0. 0. 0. 0. 0. 0. 0. 0. 0. 0. 0. 0. 0. 0. 0.\n 0. 0. 0. 0.]\n[0. 0. 0. 0. 0. 0. 0. 0. 0. 0. 0. 0. 0. 0. 0. 0. 0. 0. 0. 0. 0. 0. 0. 0.\n 0. 0. 0. 0. 0. 0. 0. 0. 0. 0. 0. 0. 0. 0. 0. 0. 0. 0. 0. 0. 0. 0. 0. 0.\n 0. 0. 0. 0. 0. 0. 0. 0. 0. 0. 0. 0. 0. 0. 0. 0. 0. 0. 0. 0. 0. 0. 0. 0.\n 0. 0. 0. 0. 0. 0. 0. 0. 0. 0. 0. 0. 0. 0. 0. 0. 0. 0. 0. 0. 0. 0. 0. 0.\n 0. 0. 0. 0.]\n[0. 0. 0. 0. 0. 0. 0. 0. 0. 0. 0. 0. 0. 0. 0. 0. 0. 0. 0. 0. 0. 0. 0. 0.\n 0. 0. 0. 0. 0. 0. 0. 0. 0. 0. 0. 0. 0. 0. 0. 0. 0. 0. 0. 0. 0. 0. 0. 0.\n 0. 0. 0. 0. 0. 0. 0. 0. 0. 0. 0. 0. 0. 0. 0. 0. 0. 0. 0. 0. 0. 0. 0. 0.\n 0. 0. 0. 0. 0. 0. 0. 0. 0. 0. 0. 0. 0. 0. 0. 0. 0. 0. 0. 0. 0. 0. 0. 0.\n 0. 0. 0. 0.]\n[1.13311815 1.1358074  1.13849666 1.14118591 1.14387517 1.14656442\n 1.14925368 1.15194294 1.15463219 1.15732145 1.1600107  1.16269996\n 1.16538921 1.16807847 1.17076772 1.17345698 1.17614624 1.17883549\n 1.18152475 1.184214   1.18690326 1.18959251 1.19228177 1.19497102\n 1.19766028 1.20034953 1.20303879 1.20572805 1.2084173  1.21110656\n 1.21379581 1.21648507 1.21917432 1.22186358 1.22455283 1.22724209\n 1.22993135 1.2326206  1.23530986 1.23799911 1.24057364 1.24281469\n 1.24505573 1.24729678 1.24953782 1.25177887 1.25401992 1.25626096\n 1.25850201 1.26074306 1.2629841  1.26522515 1.26746619 1.26970724\n 1.27194829 1.27418933 1.27643038 1.27867143 1.28091247 1.28315352\n 1.28539456 1.28763561 1.28987666 1.2921177  1.29435875 1.2965998\n 1.29884084 1.30108189 1.30332293 1.30556398 1.30780503 1.31004607\n 1.31228712 1.31452817 1.31676921 1.31901026 1.3212513  1.32349235\n 1.3257334  1.32797444 1.33021549 1.33245654 1.33469758 1.33693863\n 1.33917967 1.34142072 1.34366177 1.34590281 1.34814386 1.35038491\n 1.35262595 1.354867   1.35710804 1.35934909 1.36159014 1.36383118\n 1.36607223 1.36831328 1.37055432 1.37279537]\n[0.44372716 0.44372716 0.44372716 0.44372716 0.44372716 0.44372716\n 0.44372716 0.44372716 0.44372716 0.44372716 0.44372716 0.44372716\n 0.44372716 0.44372716 0.44372716 0.44372716 0.44372716 0.44372716\n 0.44372716 0.44372716 0.44372716 0.44372716 0.44372716 0.44372716\n 0.44372716 0.44372716 0.44372716 0.44372716 0.44372716 0.44372716\n 0.44372716 0.44372716 0.44372716 0.44372716 0.44372716 0.44372716\n 0.44372716 0.44372716 0.44372716 0.44372716 0.44372716 0.44372716\n 0.44372716 0.44372716 0.44372716 0.44372716 0.44372716 0.44372716\n 0.44372716 0.44372716 0.44372716 0.44372716 0.44372716 0.44372716\n 0.44372716 0.44372716 0.44372716 0.44372716 0.44372716 0.44372716\n 0.44372716 0.44372716 0.44372716 0.44372716 0.44372716 0.44372716\n 0.44372716 0.44372716 0.44372716 0.44372716 0.44372716 0.44372716\n 0.44372716 0.44372716 0.44372716 0.44372716 0.44372716 0.44372716\n 0.44372716 0.44372716 0.44372716 0.44372716 0.44372716 0.44372716\n 0.44372716 0.44372716 0.44372716 0.44372716 0.44372716 0.44372716\n 0.44372716 0.44372716 0.44372716 0.44372716 0.44372716 0.44372716\n 0.44372716 0.44372716 0.44372716 0.44372716]\n[0.44479976 0.44479976 0.44479976 0.44479976 0.44479976 0.44479976\n 0.44479976 0.44479976 0.44479976 0.44479976 0.44479976 0.44479976\n 0.44479976 0.44479976 0.44479976 0.44479976 0.44479976 0.44479976\n 0.44479976 0.44479976 0.44479976 0.44479976 0.44479976 0.44479976\n 0.44479976 0.44479976 0.44479976 0.44479976 0.44479976 0.44479976\n 0.44479976 0.44479976 0.44479976 0.44479976 0.44479976 0.44479976\n 0.44479976 0.44479976 0.44479976 0.44479976 0.44479976 0.44479976\n 0.44479976 0.44479976 0.44479976 0.44479976 0.44479976 0.44479976\n 0.44479976 0.44479976 0.44479976 0.44479976 0.44479976 0.44479976\n 0.44479976 0.44479976 0.44479976 0.44479976 0.44479976 0.44479976\n 0.44479976 0.44479976 0.44479976 0.44479976 0.44479976 0.44479976\n 0.44479976 0.44479976 0.44479976 0.44479976 0.44479976 0.44479976\n 0.44479976 0.44479976 0.44479976 0.44479976 0.44479976 0.44479976\n 0.44479976 0.44479976 0.44479976 0.44479976 0.44479976 0.44479976\n 0.44479976 0.44479976 0.44479976 0.44479976 0.44479976 0.44479976\n 0.44479976 0.44479976 0.44479976 0.44479976 0.44479976 0.44479976\n 0.44479976 0.44479976 0.44479976 0.44479976]\nl,c,u=(0.44372715761164744, 1.1331181472834941, 0.4447997624442222)\n0.44372715761164744\n1.1331181472834941\n0.4447997624442222\nl,c,u=(0.44372715761164744, 1.3190102581952023, 0.4447997624442222)\n0.44372715761164744\n1.3190102581952023\n0.4447997624442222\n"
    },
    {
     "data": {
      "image/png": "[encoded data removed]",
      "text/plain": "<Figure size 432x288 with 1 Axes>"
     },
     "metadata": {
      "needs_background": "light"
     },
     "output_type": "display_data"
    }
   ],
   "source": [
    "# Question 2: Plot l* and c* as functions of w in the range 0.5 to 1.5.\n",
    "\n",
    "# import numpy\n",
    "import numpy as np\n",
    "# import matplotlib\n",
    "import matplotlib.pyplot as plt\n",
    "\n",
    "N=100\n",
    "# generate a list of all the values for w, 100 values\n",
    "W=np.linspace(0.5,1.5,N) # less values for the start\n",
    "print(W)\n",
    "\n",
    "# generate an empty list for the l values\n",
    "L=np.zeros(N)\n",
    "print(L)\n",
    "\n",
    "C=np.zeros(N)\n",
    "print(C)\n",
    "\n",
    "U=np.zeros(N)\n",
    "print(U)\n",
    "\n",
    "\n",
    "# find the l values that solve the maximization problem\n",
    "\n",
    "for i in range(W.size) :\n",
    "    l,c,u = solve_equation(e, v, m, W[i], tau0, tau1, k)\n",
    "    L[i]=l\n",
    "    C[i]=c\n",
    "    U[i]=u\n",
    "\n",
    "\n",
    "print(C)\n",
    "print(L)\n",
    "print(U)\n",
    "\n",
    "# make tests\n",
    "print(\"l,c,u=\"+str(solve_equation(e,v,m,W[0],tau0,tau1,k)))\n",
    "print(L[0])\n",
    "print(C[0])\n",
    "print(U[0])\n",
    "\n",
    "print(\"l,c,u=\"+str(solve_equation(e,v,m,W[75],tau0,tau1,k)))\n",
    "print(L[75])\n",
    "print(C[75])\n",
    "print(U[75])\n",
    "\n",
    "\n",
    "plt.plot(W, L)\n",
    "plt.plot(W,C)\n",
    "plt.grid(True)\n",
    "plt.xlabel(\"w\")\n",
    "plt.ylabel(\"c*, l*\")\n",
    "plt.legend([\"Labour Supply\", \"Consumption\"])\n",
    "plt.title(\"Optimal consumption and labour supply\")\n",
    "plt.show()\n"
   ]
  },
  {
   "cell_type": "markdown",
   "metadata": {},
   "source": [
    "# Question 3"
   ]
  },
  {
   "cell_type": "code",
   "execution_count": 13,
   "metadata": {},
   "outputs": [
    {
     "name": "stdout",
     "output_type": "stream",
     "text": "[1.15358959 0.61500694 1.45028286 ... 1.3943493  0.95239636 1.2226417 ]\nThe total tax revenue is 1860.7781830640386\n"
    }
   ],
   "source": [
    "# Question 3: Calculate the total tax revenue given by\n",
    "\n",
    "# code\n",
    "N = 10000\n",
    "np.random.seed(1000)\n",
    "W_i=np.random.uniform(low=0.5, high=1.5, size=N)\n",
    "print(W_i) # now we have the uniformly distrbuted wages\n",
    "\n",
    "def tax_revenue(e, v, m, tau0, tau1, k, N) :\n",
    "    total_tax = 0 # set the total tax equal to zero in the beginning\n",
    "    for i in range(0,N) :\n",
    "        w_i=W_i[i] #pick one of the wages\n",
    "        l_i, _, _ = solve_equation(e, v, m, w_i, tau0, tau1, k)\n",
    "        total_tax += (tau0 * w_i * l_i + tau1 * max(w_i * l_i - k, 0)) # add the tax revenue\n",
    "    return total_tax\n",
    "\n",
    "T=tax_revenue(e, v, m, tau0, tau1, k, N)\n",
    "\n",
    "print(\"The total tax revenue is \" + str(T))"
   ]
  },
  {
   "cell_type": "markdown",
   "metadata": {},
   "source": [
    "# Question 4"
   ]
  },
  {
   "cell_type": "code",
   "execution_count": 18,
   "metadata": {},
   "outputs": [],
   "source": [
    "# Question 4: What would the tax revenue be if instead e = 0.1?\n",
    "\n",
    "# define the new elasticity\n",
    "e2=0.1\n",
    "\n",
    "# call the previous defined function and \n",
    "T2=tax_revenue(e2,v,m,tau0,tau1,k,N)\n",
    "print(T2)\n",
    "print(\"The new total tax revenue with e=0.1 is \" + str(T2))"
   ]
  },
  {
   "cell_type": "markdown",
   "metadata": {},
   "source": [
    "# Question 5"
   ]
  },
  {
   "cell_type": "code",
   "execution_count": null,
   "metadata": {},
   "outputs": [],
   "source": [
    "# Question 5: Which \u001c0, \u001c1 and \u0014 would you suggest her to implement?\n",
    "#Report the tax revenue you expect to obtain."
   ]
  },
  {
   "cell_type": "markdown",
   "metadata": {},
   "source": [
    "# Conclusion"
   ]
  },
  {
   "cell_type": "markdown",
   "metadata": {},
   "source": [
    "ADD CONCISE CONLUSION."
   ]
  }
 ],
 "metadata": {
  "kernelspec": {
   "display_name": "Python 3",
   "language": "python",
   "name": "python3"
  },
  "language_info": {
   "codemirror_mode": {
    "name": "ipython",
    "version": 3
   },
   "file_extension": ".py",
   "mimetype": "text/x-python",
   "name": "python",
   "nbconvert_exporter": "python",
   "pygments_lexer": "ipython3",
   "version": "3.7.4-final"
  },
  "toc-autonumbering": true
 },
 "nbformat": 4,
 "nbformat_minor": 4
}